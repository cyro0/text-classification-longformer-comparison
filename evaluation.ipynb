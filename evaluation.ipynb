{
 "cells": [
  {
   "cell_type": "markdown",
   "id": "be94e6d6-4096-4d1a-aa58-5afd89f33bff",
   "metadata": {},
   "source": [
    "### HuggingFace dependencies"
   ]
  },
  {
   "cell_type": "code",
   "execution_count": null,
   "id": "1cee09d6",
   "metadata": {},
   "outputs": [],
   "source": [
    "from datasets import *\n",
    "import datasets\n",
    "\n",
    "from transformers import (\n",
    "    AutoTokenizer,\n",
    "    AutoModelForSequenceClassification,\n",
    "    DataCollatorWithPadding,\n",
    "    TrainingArguments,\n",
    "    Trainer)\n",
    "\n",
    "from peft import PeftModel, get_peft_model, LoraConfig\n",
    "import evaluate\n"
   ]
  },
  {
   "cell_type": "markdown",
   "id": "13116acf",
   "metadata": {},
   "source": [
    "### Load gnad10 dataset and create datasets with only one class"
   ]
  },
  {
   "cell_type": "code",
   "execution_count": null,
   "id": "9b26f11d",
   "metadata": {},
   "outputs": [],
   "source": [
    "# load dataset\n",
    "dataset = load_dataset('community-datasets/gnad10')\n",
    "\n",
    "dataset_onlyWeb = dataset.filter(lambda x: x['label'] == 0)\n",
    "dataset_onlyPanorama = dataset.filter(lambda x: x['label'] == 1)\n",
    "dataset_onlyInternational = dataset.filter(lambda x: x['label'] == 2)\n",
    "dataset_onlyWirtschaft = dataset.filter(lambda x: x['label'] == 3)\n",
    "dataset_onlySport = dataset.filter(lambda x: x['label'] == 4)\n",
    "dataset_onlyInland = dataset.filter(lambda x: x['label'] == 5)\n",
    "dataset_onlyEtat = dataset.filter(lambda x: x['label'] == 6)\n",
    "dataset_onlyWissenschaft = dataset.filter(lambda x: x['label'] == 7)\n",
    "dataset_onlyKultur = dataset.filter(lambda x: x['label'] == 8)"
   ]
  },
  {
   "cell_type": "markdown",
   "id": "3542c8ba",
   "metadata": {},
   "source": [
    "### Load distilbert model and connect with LoRA Adapter weights"
   ]
  },
  {
   "cell_type": "code",
   "execution_count": null,
   "id": "620baf0c",
   "metadata": {},
   "outputs": [],
   "source": [
    "model_output = 'evaluation'\n",
    "model_checkpoint = 'allenai/longformer-base-4096'\n",
    "adapter_name = 'cyrp/longformer-base-4096-gnad10'\n",
    "\n",
    "model = AutoModelForSequenceClassification.from_pretrained(model_checkpoint, num_labels=9)\n",
    "model = PeftModel.from_pretrained(model, adapter_name)\n",
    "model = model.merge_and_unload()\n",
    "tokenizer = AutoTokenizer.from_pretrained(model_checkpoint, add_prefix_space=True)"
   ]
  },
  {
   "cell_type": "markdown",
   "id": "134cf592",
   "metadata": {},
   "source": [
    "### Preprocess data"
   ]
  },
  {
   "cell_type": "code",
   "execution_count": null,
   "id": "5b671c48",
   "metadata": {},
   "outputs": [],
   "source": [
    "# add pad token if none exists\n",
    "if tokenizer.pad_token is None:\n",
    "    tokenizer.add_special_tokens({'pad_token': '[PAD]'})\n",
    "    model.resize_token_embeddings(len(tokenizer))"
   ]
  },
  {
   "cell_type": "code",
   "execution_count": null,
   "id": "52c46523",
   "metadata": {},
   "outputs": [],
   "source": [
    "# create tokenize function\n",
    "def tokenize(batch):\n",
    "\n",
    "    #tokenize and truncate text\n",
    "    tokens = tokenizer(batch['text'], padding=True, truncation=True, max_length=512)\n",
    "    print(batch['label'])\n",
    "    return tokens\n",
    "\n",
    "\n",
    "# tokenize training and validation datasets\n",
    "dataset_onlyWeb = dataset_onlyWeb.map(tokenize, batched=True)\n",
    "dataset_onlyPanorama = dataset_onlyPanorama.map(tokenize, batched=True)\n",
    "dataset_onlyInternational = dataset_onlyInternational.map(tokenize, batched=True)\n",
    "dataset_onlyWirtschaft = dataset_onlyWirtschaft.map(tokenize, batched=True)\n",
    "dataset_onlySport = dataset_onlySport.map(tokenize, batched=True)\n",
    "dataset_onlyInland = dataset_onlyInland.map(tokenize, batched=True)\n",
    "dataset_onlyEtat = dataset_onlyEtat.map(tokenize, batched=True)\n",
    "dataset_onlyWissenschaft = dataset_onlyWissenschaft.map(tokenize, batched=True)\n",
    "dataset_onlyKultur = dataset_onlyKultur.map(tokenize, batched=True)"
   ]
  },
  {
   "cell_type": "code",
   "execution_count": null,
   "id": "8a4a74db",
   "metadata": {},
   "outputs": [],
   "source": [
    "# create data collator\n",
    "data_collator = DataCollatorWithPadding(tokenizer=tokenizer)"
   ]
  },
  {
   "cell_type": "code",
   "execution_count": null,
   "id": "a5ee6832",
   "metadata": {},
   "outputs": [],
   "source": [
    "# show metrics for f1 and accuracy\n",
    "from sklearn.metrics import f1_score, accuracy_score\n",
    "\n",
    "def compute_metrics(pred):\n",
    "    labels = pred.label_ids\n",
    "    preds = pred.predictions.argmax(-1)\n",
    "    f1 = f1_score(labels, preds, average='weighted')\n",
    "    accuracy = accuracy_score(labels, preds)\n",
    "    return {\n",
    "    'f1': f1,\n",
    "    'accuracy': accuracy\n",
    "    }"
   ]
  },
  {
   "cell_type": "markdown",
   "id": "166fb10c",
   "metadata": {},
   "source": [
    "### Create Trainer Objects"
   ]
  },
  {
   "cell_type": "code",
   "execution_count": null,
   "id": "675521e1",
   "metadata": {},
   "outputs": [],
   "source": [
    "trainer0 = Trainer(\n",
    "    model=model,\n",
    "    eval_dataset=dataset_onlyWeb[\"test\"],\n",
    "    processing_class=tokenizer,\n",
    "    data_collator=data_collator, # this will dynamically pad examples in each batch to be equal length\n",
    "    compute_metrics=compute_metrics\n",
    ")\n",
    "\n",
    "trainer1 = Trainer(\n",
    "    model=model,\n",
    "    eval_dataset=dataset_onlyPanorama[\"test\"],\n",
    "    processing_class=tokenizer,\n",
    "    data_collator=data_collator,\n",
    "    compute_metrics=compute_metrics\n",
    ")\n",
    "\n",
    "trainer2 = Trainer(\n",
    "    model=model,\n",
    "    eval_dataset=dataset_onlyInternational[\"test\"],\n",
    "    processing_class=tokenizer,\n",
    "    data_collator=data_collator,\n",
    "    compute_metrics=compute_metrics\n",
    ")\n",
    "\n",
    "trainer3 = Trainer(\n",
    "    model=model,\n",
    "    eval_dataset=dataset_onlyWirtschaft[\"test\"],\n",
    "    processing_class=tokenizer,\n",
    "    data_collator=data_collator,\n",
    "    compute_metrics=compute_metrics\n",
    ")\n",
    "\n",
    "trainer4 = Trainer(\n",
    "    model=model,\n",
    "    eval_dataset=dataset_onlySport[\"test\"],\n",
    "    processing_class=tokenizer,\n",
    "    data_collator=data_collator,\n",
    "    compute_metrics=compute_metrics\n",
    ")\n",
    "\n",
    "trainer5 = Trainer(\n",
    "    model=model,\n",
    "    eval_dataset=dataset_onlyInland[\"test\"],\n",
    "    processing_class=tokenizer,\n",
    "    data_collator=data_collator,\n",
    "    compute_metrics=compute_metrics\n",
    ")\n",
    "\n",
    "trainer6 = Trainer(\n",
    "    model=model,\n",
    "    eval_dataset=dataset_onlyEtat[\"test\"],\n",
    "    processing_class=tokenizer,\n",
    "    data_collator=data_collator,\n",
    "    compute_metrics=compute_metrics\n",
    ")\n",
    "\n",
    "trainer7 = Trainer(\n",
    "    model=model,\n",
    "    eval_dataset=dataset_onlyWissenschaft[\"test\"],\n",
    "    processing_class=tokenizer,\n",
    "    data_collator=data_collator,\n",
    "    compute_metrics=compute_metrics\n",
    ")\n",
    "\n",
    "trainer8 = Trainer(\n",
    "    model=model,\n",
    "    eval_dataset=dataset_onlyKultur[\"test\"],\n",
    "    processing_class=tokenizer,\n",
    "    data_collator=data_collator,\n",
    "    compute_metrics=compute_metrics\n",
    ")"
   ]
  },
  {
   "cell_type": "markdown",
   "id": "3b5ae615",
   "metadata": {},
   "source": [
    "### Evaluate"
   ]
  },
  {
   "cell_type": "code",
   "execution_count": null,
   "id": "caa0656c",
   "metadata": {},
   "outputs": [],
   "source": [
    "print(\"WEB\")\n",
    "trainer0.evaluate()"
   ]
  },
  {
   "cell_type": "code",
   "execution_count": null,
   "id": "2b0a74be",
   "metadata": {},
   "outputs": [],
   "source": [
    "print(\"PANORAMA\")\n",
    "trainer1.evaluate()"
   ]
  },
  {
   "cell_type": "code",
   "execution_count": null,
   "id": "b9f9259d",
   "metadata": {},
   "outputs": [],
   "source": [
    "print(\"INTERNATIONAL\")\n",
    "trainer2.evaluate()"
   ]
  },
  {
   "cell_type": "code",
   "execution_count": null,
   "id": "569e2dc0",
   "metadata": {},
   "outputs": [],
   "source": [
    "print(\"WIRTSCHAFT\")\n",
    "trainer3.evaluate()"
   ]
  },
  {
   "cell_type": "code",
   "execution_count": null,
   "id": "71fe7e7e",
   "metadata": {},
   "outputs": [],
   "source": [
    "print(\"SPORT\")\n",
    "trainer4.evaluate()"
   ]
  },
  {
   "cell_type": "code",
   "execution_count": null,
   "id": "8ec92f55",
   "metadata": {},
   "outputs": [],
   "source": [
    "print(\"INLAND\")\n",
    "trainer5.evaluate()"
   ]
  },
  {
   "cell_type": "code",
   "execution_count": null,
   "id": "1b6cd61b",
   "metadata": {},
   "outputs": [],
   "source": [
    "print(\"ETAT\")\n",
    "trainer6.evaluate()"
   ]
  },
  {
   "cell_type": "code",
   "execution_count": null,
   "id": "9705a1fe",
   "metadata": {},
   "outputs": [],
   "source": [
    "print(\"WISSENSCHAFT\")\n",
    "trainer7.evaluate()"
   ]
  },
  {
   "cell_type": "code",
   "execution_count": null,
   "id": "241d7866",
   "metadata": {},
   "outputs": [],
   "source": [
    "print(\"KULTUR\")\n",
    "trainer8.evaluate()"
   ]
  }
 ],
 "metadata": {
  "kernelspec": {
   "display_name": ".venv",
   "language": "python",
   "name": "python3"
  },
  "language_info": {
   "codemirror_mode": {
    "name": "ipython",
    "version": 3
   },
   "file_extension": ".py",
   "mimetype": "text/x-python",
   "name": "python",
   "nbconvert_exporter": "python",
   "pygments_lexer": "ipython3",
   "version": "3.11.5"
  }
 },
 "nbformat": 4,
 "nbformat_minor": 5
}
