{
 "cells": [
  {
   "cell_type": "markdown",
   "id": "be94e6d6-4096-4d1a-aa58-5afd89f33bff",
   "metadata": {},
   "source": [
    "### HuggingFace dependencies"
   ]
  },
  {
   "cell_type": "code",
   "execution_count": 1,
   "id": "4ef8ea85-d04d-4217-99a3-21c446bf2ffa",
   "metadata": {},
   "outputs": [],
   "source": [
    "from datasets import *\n",
    "import datasets\n",
    "\n",
    "from transformers import (\n",
    "    AutoTokenizer,\n",
    "    AutoConfig, \n",
    "    AutoModelForSequenceClassification,\n",
    "    DataCollatorWithPadding,\n",
    "    TrainingArguments,\n",
    "    Trainer)\n",
    "\n",
    "from peft import PeftModel, PeftConfig, get_peft_model, LoraConfig\n",
    "import evaluate\n",
    "import torch\n",
    "import numpy as np "
   ]
  },
  {
   "cell_type": "markdown",
   "id": "53a78f59",
   "metadata": {},
   "source": [
    "### Load dataset"
   ]
  },
  {
   "cell_type": "code",
   "execution_count": 2,
   "id": "de226234-c521-4577-802c-0e7079ef4364",
   "metadata": {},
   "outputs": [
    {
     "data": {
      "text/plain": [
       "DatasetDict({\n",
       "    train: Dataset({\n",
       "        features: ['text', 'label'],\n",
       "        num_rows: 9245\n",
       "    })\n",
       "    test: Dataset({\n",
       "        features: ['text', 'label'],\n",
       "        num_rows: 1028\n",
       "    })\n",
       "})"
      ]
     },
     "execution_count": 2,
     "metadata": {},
     "output_type": "execute_result"
    }
   ],
   "source": [
    "dataset = load_dataset('community-datasets/gnad10')\n",
    "\n",
    "dataset"
   ]
  },
  {
   "cell_type": "markdown",
   "id": "3644c68d-9adf-48a4-90a2-8fd89555a302",
   "metadata": {},
   "source": [
    "### Load distilbert model"
   ]
  },
  {
   "cell_type": "code",
   "execution_count": 3,
   "id": "a60dd1fe-8144-4678-b018-20891e49237a",
   "metadata": {},
   "outputs": [
    {
     "name": "stderr",
     "output_type": "stream",
     "text": [
      "Some weights of LongformerForSequenceClassification were not initialized from the model checkpoint at allenai/longformer-base-4096 and are newly initialized: ['classifier.dense.bias', 'classifier.dense.weight', 'classifier.out_proj.bias', 'classifier.out_proj.weight']\n",
      "You should probably TRAIN this model on a down-stream task to be able to use it for predictions and inference.\n"
     ]
    },
    {
     "data": {
      "text/plain": [
       "LongformerForSequenceClassification(\n",
       "  (longformer): LongformerModel(\n",
       "    (embeddings): LongformerEmbeddings(\n",
       "      (word_embeddings): Embedding(50265, 768, padding_idx=1)\n",
       "      (token_type_embeddings): Embedding(1, 768)\n",
       "      (LayerNorm): LayerNorm((768,), eps=1e-05, elementwise_affine=True)\n",
       "      (dropout): Dropout(p=0.1, inplace=False)\n",
       "      (position_embeddings): Embedding(4098, 768, padding_idx=1)\n",
       "    )\n",
       "    (encoder): LongformerEncoder(\n",
       "      (layer): ModuleList(\n",
       "        (0-11): 12 x LongformerLayer(\n",
       "          (attention): LongformerAttention(\n",
       "            (self): LongformerSelfAttention(\n",
       "              (query): Linear(in_features=768, out_features=768, bias=True)\n",
       "              (key): Linear(in_features=768, out_features=768, bias=True)\n",
       "              (value): Linear(in_features=768, out_features=768, bias=True)\n",
       "              (query_global): Linear(in_features=768, out_features=768, bias=True)\n",
       "              (key_global): Linear(in_features=768, out_features=768, bias=True)\n",
       "              (value_global): Linear(in_features=768, out_features=768, bias=True)\n",
       "            )\n",
       "            (output): LongformerSelfOutput(\n",
       "              (dense): Linear(in_features=768, out_features=768, bias=True)\n",
       "              (LayerNorm): LayerNorm((768,), eps=1e-05, elementwise_affine=True)\n",
       "              (dropout): Dropout(p=0.1, inplace=False)\n",
       "            )\n",
       "          )\n",
       "          (intermediate): LongformerIntermediate(\n",
       "            (dense): Linear(in_features=768, out_features=3072, bias=True)\n",
       "            (intermediate_act_fn): GELUActivation()\n",
       "          )\n",
       "          (output): LongformerOutput(\n",
       "            (dense): Linear(in_features=3072, out_features=768, bias=True)\n",
       "            (LayerNorm): LayerNorm((768,), eps=1e-05, elementwise_affine=True)\n",
       "            (dropout): Dropout(p=0.1, inplace=False)\n",
       "          )\n",
       "        )\n",
       "      )\n",
       "    )\n",
       "  )\n",
       "  (classifier): LongformerClassificationHead(\n",
       "    (dense): Linear(in_features=768, out_features=768, bias=True)\n",
       "    (dropout): Dropout(p=0.1, inplace=False)\n",
       "    (out_proj): Linear(in_features=768, out_features=9, bias=True)\n",
       "  )\n",
       ")"
      ]
     },
     "execution_count": 3,
     "metadata": {},
     "output_type": "execute_result"
    }
   ],
   "source": [
    "model_checkpoint = \"allenai/longformer-base-4096\"\n",
    "model_output = \"longformer-base-4096-gnad10\"\n",
    "\n",
    "# define label maps\n",
    "id2label = {0: \"Web\", 1: \"Panorama\", 2: \"International\", 3: \"Wirtschaft\", 4: \"Sport\", 5: \"Inland\", 6: \"Etat\", 7: \"Wissenschaft\", 8: \"Kultur\"}\n",
    "label2id = {\"Web\": 0, \"Panorama\": 1, \"International\": 2, \"Wirtschaft\": 3, \"Sport\": 4, \"Inland\": 5, \"Etat\": 6, \"Wissenschaft\": 7, \"Kultur\": 8}\n",
    "\n",
    "# generate classification model from model_checkpoint\n",
    "model = AutoModelForSequenceClassification.from_pretrained(\n",
    "    model_checkpoint, num_labels=9, id2label=id2label, label2id=label2id, trust_remote_code=True)\n",
    "\n",
    "# display architecture\n",
    "model"
   ]
  },
  {
   "cell_type": "markdown",
   "id": "4bc98609-873d-455c-bac4-155632cda484",
   "metadata": {},
   "source": [
    "### Preprocess data"
   ]
  },
  {
   "cell_type": "code",
   "execution_count": 4,
   "id": "7fe08707-657f-4e66-aa72-84899c54bf8d",
   "metadata": {},
   "outputs": [],
   "source": [
    "# create tokenizer\n",
    "tokenizer = AutoTokenizer.from_pretrained(model_checkpoint, add_prefix_space=True)\n",
    "\n",
    "# add pad token if none exists\n",
    "if tokenizer.pad_token is None:\n",
    "    tokenizer.add_special_tokens({'pad_token': '[PAD]'})\n",
    "    model.resize_token_embeddings(len(tokenizer))"
   ]
  },
  {
   "cell_type": "code",
   "execution_count": 5,
   "id": "20f4adb9-ce8f-4f54-9b94-300c9daae1b8",
   "metadata": {},
   "outputs": [
    {
     "data": {
      "application/vnd.jupyter.widget-view+json": {
       "model_id": "05232809afb5455aa1eba2da18585cf9",
       "version_major": 2,
       "version_minor": 0
      },
      "text/plain": [
       "Map:   0%|          | 0/1028 [00:00<?, ? examples/s]"
      ]
     },
     "metadata": {},
     "output_type": "display_data"
    },
    {
     "name": "stdout",
     "output_type": "stream",
     "text": [
      "[3, 4, 0, 4, 2, 0, 4, 1, 2, 0, 0, 0, 0, 7, 2, 5, 1, 7, 0, 0, 3, 2, 3, 8, 3, 8, 0, 6, 5, 1, 2, 6, 3, 6, 0, 1, 0, 2, 3, 3, 3, 1, 3, 8, 0, 7, 4, 1, 0, 1, 5, 2, 7, 0, 1, 7, 0, 0, 1, 6, 2, 2, 0, 2, 7, 0, 3, 8, 1, 4, 5, 6, 3, 3, 5, 4, 0, 3, 0, 1, 2, 1, 1, 1, 0, 7, 4, 2, 0, 2, 7, 1, 3, 8, 1, 1, 2, 5, 7, 3, 0, 6, 6, 5, 4, 5, 5, 7, 4, 4, 4, 2, 7, 5, 5, 8, 3, 5, 3, 3, 6, 1, 8, 0, 1, 5, 5, 1, 3, 2, 7, 3, 7, 0, 1, 3, 3, 5, 1, 4, 6, 1, 7, 7, 1, 1, 8, 3, 8, 1, 1, 6, 1, 7, 1, 6, 4, 3, 0, 5, 2, 1, 6, 0, 2, 0, 2, 2, 0, 2, 1, 1, 3, 2, 3, 2, 5, 2, 0, 2, 2, 3, 2, 2, 3, 6, 4, 2, 3, 2, 1, 6, 0, 4, 5, 8, 4, 2, 0, 3, 5, 5, 1, 2, 7, 4, 2, 2, 3, 2, 3, 0, 1, 2, 3, 4, 4, 8, 0, 1, 7, 5, 1, 2, 0, 8, 1, 8, 1, 0, 8, 1, 5, 5, 5, 2, 6, 0, 1, 7, 0, 4, 8, 1, 4, 2, 6, 1, 8, 4, 5, 4, 3, 3, 8, 0, 1, 3, 0, 2, 2, 4, 5, 6, 3, 3, 1, 2, 0, 1, 4, 6, 3, 7, 2, 8, 2, 8, 4, 0, 0, 5, 5, 3, 0, 1, 3, 5, 6, 2, 8, 2, 8, 1, 0, 2, 3, 1, 0, 5, 0, 1, 6, 0, 1, 2, 2, 5, 0, 0, 4, 1, 1, 7, 2, 3, 3, 6, 1, 1, 8, 7, 3, 2, 1, 0, 6, 8, 3, 4, 0, 7, 2, 0, 4, 7, 6, 1, 3, 3, 7, 7, 6, 0, 4, 0, 0, 8, 4, 2, 4, 8, 4, 0, 0, 0, 7, 3, 8, 3, 5, 2, 1, 6, 4, 5, 2, 5, 0, 2, 4, 4, 3, 1, 2, 3, 2, 4, 1, 4, 6, 0, 8, 2, 3, 0, 5, 2, 6, 0, 0, 6, 4, 0, 6, 6, 2, 0, 0, 3, 5, 5, 5, 7, 4, 2, 2, 1, 3, 1, 0, 6, 5, 5, 3, 1, 7, 0, 8, 3, 0, 2, 8, 4, 2, 2, 0, 4, 3, 2, 1, 2, 0, 1, 4, 5, 2, 3, 1, 2, 1, 0, 3, 0, 0, 0, 4, 0, 0, 0, 5, 2, 2, 6, 5, 1, 7, 3, 2, 3, 6, 1, 1, 5, 4, 3, 8, 5, 8, 1, 0, 5, 1, 0, 0, 3, 0, 5, 5, 5, 2, 0, 2, 1, 5, 1, 3, 5, 4, 5, 0, 0, 8, 3, 2, 1, 4, 1, 3, 6, 6, 0, 1, 1, 7, 5, 2, 1, 2, 2, 1, 3, 1, 5, 2, 0, 8, 3, 2, 2, 0, 1, 6, 6, 1, 4, 5, 5, 5, 4, 8, 3, 1, 3, 4, 4, 3, 4, 4, 1, 2, 6, 3, 4, 3, 5, 5, 1, 0, 0, 4, 2, 4, 5, 2, 4, 5, 5, 0, 0, 1, 1, 4, 3, 2, 0, 7, 0, 1, 1, 3, 2, 2, 8, 6, 1, 2, 2, 8, 2, 2, 0, 1, 6, 0, 2, 7, 7, 2, 0, 5, 5, 2, 2, 0, 7, 5, 4, 3, 6, 5, 4, 1, 5, 1, 0, 0, 1, 6, 1, 6, 2, 3, 3, 0, 8, 1, 0, 5, 0, 8, 7, 0, 5, 1, 3, 3, 2, 3, 3, 2, 0, 0, 2, 4, 2, 7, 3, 4, 4, 7, 0, 0, 7, 6, 4, 4, 5, 2, 1, 2, 4, 0, 3, 2, 6, 2, 2, 1, 1, 3, 4, 3, 0, 3, 2, 3, 4, 7, 2, 4, 6, 3, 2, 2, 6, 1, 8, 5, 3, 5, 0, 2, 2, 8, 4, 3, 6, 2, 7, 8, 1, 0, 3, 0, 2, 3, 6, 2, 0, 3, 4, 1, 4, 1, 4, 1, 4, 1, 4, 3, 3, 5, 3, 2, 6, 4, 4, 8, 4, 8, 0, 2, 3, 0, 1, 2, 2, 5, 0, 1, 1, 3, 6, 7, 1, 1, 4, 4, 1, 2, 3, 2, 6, 4, 3, 1, 6, 8, 5, 3, 5, 2, 2, 1, 0, 6, 1, 0, 2, 4, 0, 1, 1, 3, 8, 1, 4, 7, 2, 3, 7, 1, 0, 1, 2, 1, 3, 0, 4, 1, 8, 5, 6, 1, 5, 1, 3, 1, 3, 4, 0, 0, 4, 3, 2, 3, 6, 4, 6, 4, 4, 2, 8, 3, 1, 4, 0, 1, 5, 5, 2, 0, 0, 1, 8, 0, 4, 1, 2, 0, 3, 4, 1, 4, 6, 0, 1, 3, 7, 7, 0, 6, 3, 5, 0, 1, 0, 3, 2, 0, 4, 7, 4, 2, 0, 1, 5, 1, 1, 1, 3, 6, 4, 0, 1, 2, 5, 7, 1, 3, 1, 6, 7, 3, 5, 3, 5, 2, 0, 3, 1, 2, 8, 0, 2, 6, 0, 0, 2, 3, 1, 0, 5, 3, 1, 4, 3, 7, 3, 7, 3, 0, 0, 2, 5, 5, 4, 1, 5, 0, 1, 0, 0, 4, 1, 8, 0, 4, 1, 7, 0, 0, 4, 5, 4, 7, 1, 0, 3, 3, 5, 0, 4, 1, 5, 3, 2, 1, 4, 2, 4, 0, 4, 3, 2, 2, 6, 8, 4, 0, 3, 4, 2, 0, 1, 1, 5, 7, 3, 3, 4, 3, 2, 5, 1, 1, 0, 1, 6, 1, 5, 5, 3, 0, 4, 3, 7, 0, 0, 2, 3, 5, 1, 4, 8, 4, 1, 8, 7, 2, 3, 8, 2, 5, 3, 1, 3, 0, 1, 1, 2, 1, 4, 0, 5, 0, 7, 1, 0]\n",
      "[1, 3, 5, 1, 3, 4, 5, 0, 2, 6, 1, 2, 4, 6, 4, 4, 2, 1, 0, 6, 4, 1, 0, 0, 5, 4, 4, 0]\n"
     ]
    },
    {
     "data": {
      "text/plain": [
       "DatasetDict({\n",
       "    train: Dataset({\n",
       "        features: ['text', 'label', 'input_ids', 'attention_mask'],\n",
       "        num_rows: 9245\n",
       "    })\n",
       "    test: Dataset({\n",
       "        features: ['text', 'label', 'input_ids', 'attention_mask'],\n",
       "        num_rows: 1028\n",
       "    })\n",
       "})"
      ]
     },
     "execution_count": 5,
     "metadata": {},
     "output_type": "execute_result"
    }
   ],
   "source": [
    "# create tokenize function\n",
    "def tokenize(batch):\n",
    "\n",
    "    #tokenize and truncate text\n",
    "    tokens = tokenizer(batch['text'], padding=True, truncation=True, max_length=512)\n",
    "    print(batch['label'])\n",
    "    return tokens\n",
    "\n",
    "\n",
    "# tokenize training and validation datasets\n",
    "tokenized_dataset = dataset.map(tokenize, batched=True)\n",
    "\n",
    "tokenized_dataset\n"
   ]
  },
  {
   "cell_type": "code",
   "execution_count": 6,
   "id": "3f8e85f9-1804-4f49-a783-4da59580ea1e",
   "metadata": {},
   "outputs": [],
   "source": [
    "# create data collator\n",
    "data_collator = DataCollatorWithPadding(tokenizer=tokenizer)"
   ]
  },
  {
   "cell_type": "markdown",
   "id": "47500035-a555-46e0-83dc-440586d96b7e",
   "metadata": {},
   "source": [
    "### Apply untrained model to text"
   ]
  },
  {
   "cell_type": "code",
   "execution_count": 7,
   "id": "8f3761c1-a297-45c8-882e-d74856259810",
   "metadata": {},
   "outputs": [
    {
     "name": "stderr",
     "output_type": "stream",
     "text": [
      "Initializing global attention on CLS token...\n",
      "Input ids are automatically padded to be a multiple of `config.attention_window`: 512\n"
     ]
    },
    {
     "name": "stdout",
     "output_type": "stream",
     "text": [
      "Untrained model predictions:\n",
      "----------------------------\n",
      "Panorama\n"
     ]
    }
   ],
   "source": [
    "# define list of examples\n",
    "text_list = [\"Ex-Chef der Bundespolizei solle insbesondere seine Kontakte in den USA nutzen. Der Volltext dieses auf Agenturmeldungen basierenden Artikels steht aus rechtlichen Gründen nicht mehr zur Verfügung.\"]\n",
    "print(\"Untrained model predictions:\")\n",
    "print(\"----------------------------\")\n",
    "for text in text_list:\n",
    "    # tokenize text\n",
    "    inputs = tokenizer.encode(text, return_tensors=\"pt\")\n",
    "    # compute logits\n",
    "    logits = model(inputs).logits\n",
    "    # convert logits to label\n",
    "    predictions = torch.argmax(logits)\n",
    "\n",
    "    print(id2label[predictions.tolist()])"
   ]
  },
  {
   "cell_type": "markdown",
   "id": "ff356f78-c9fd-4f2b-8f5b-097cf29c1c08",
   "metadata": {},
   "source": [
    "### Train model"
   ]
  },
  {
   "cell_type": "code",
   "execution_count": 8,
   "id": "e4dde538-cd7f-4ab5-a96d-c30f3003822e",
   "metadata": {},
   "outputs": [],
   "source": [
    "\n",
    "peft_config = LoraConfig(task_type=\"SEQ_CLS\",\n",
    "                        r=16,\n",
    "                        lora_alpha=32,\n",
    "                        lora_dropout=0.05,\n",
    "                        target_modules=[\"query\", \"key\", \"value\"])"
   ]
  },
  {
   "cell_type": "code",
   "execution_count": 9,
   "id": "f1391303-1e16-4d5c-b2b4-799997eff9f8",
   "metadata": {},
   "outputs": [
    {
     "data": {
      "text/plain": [
       "LoraConfig(task_type='SEQ_CLS', peft_type=<PeftType.LORA: 'LORA'>, auto_mapping=None, base_model_name_or_path=None, revision=None, inference_mode=False, r=16, target_modules={'query', 'key', 'value'}, exclude_modules=None, lora_alpha=32, lora_dropout=0.05, fan_in_fan_out=False, bias='none', use_rslora=False, modules_to_save=None, init_lora_weights=True, layers_to_transform=None, layers_pattern=None, rank_pattern={}, alpha_pattern={}, megatron_config=None, megatron_core='megatron.core', loftq_config={}, eva_config=None, use_dora=False, layer_replication=None, runtime_config=LoraRuntimeConfig(ephemeral_gpu_offload=False), lora_bias=False)"
      ]
     },
     "execution_count": 9,
     "metadata": {},
     "output_type": "execute_result"
    }
   ],
   "source": [
    "peft_config"
   ]
  },
  {
   "cell_type": "code",
   "execution_count": 10,
   "id": "3e0d9408-9fc4-4bd3-8d35-4d8217fe01e2",
   "metadata": {},
   "outputs": [
    {
     "name": "stdout",
     "output_type": "stream",
     "text": [
      "trainable params: 1,482,249 || all params: 150,148,626 || trainable%: 0.9872\n"
     ]
    }
   ],
   "source": [
    "model = get_peft_model(model, peft_config)\n",
    "model.print_trainable_parameters()"
   ]
  },
  {
   "cell_type": "code",
   "execution_count": 11,
   "id": "5db78059-e5ae-4807-89db-b58ef6abedd1",
   "metadata": {},
   "outputs": [],
   "source": [
    "# hyperparameters\n",
    "lr = 1e-3\n",
    "batch_size = 1\n",
    "num_epochs = 5"
   ]
  },
  {
   "cell_type": "code",
   "execution_count": 12,
   "id": "9244ed55-65a4-4c66-8388-55efd87bceb8",
   "metadata": {},
   "outputs": [],
   "source": [
    "training_args = TrainingArguments(\n",
    "    fp16=True,\n",
    "    gradient_checkpointing=True,\n",
    "    output_dir= model_output,\n",
    "    learning_rate=lr,\n",
    "    auto_find_batch_size=True,\n",
    "    num_train_epochs=num_epochs,\n",
    "    weight_decay=0.01,\n",
    "    eval_strategy=\"epoch\",\n",
    "    save_strategy=\"epoch\",\n",
    "    load_best_model_at_end=True,\n",
    ")"
   ]
  },
  {
   "cell_type": "code",
   "execution_count": 13,
   "id": "7f69c7a7",
   "metadata": {},
   "outputs": [],
   "source": [
    "# function to show metrics for f1 and accuracy\n",
    "from sklearn.metrics import f1_score, accuracy_score\n",
    "\n",
    "def compute_metrics(pred):\n",
    "    labels = pred.label_ids\n",
    "    preds = pred.predictions.argmax(-1)\n",
    "    f1 = f1_score(labels, preds, average='weighted')\n",
    "    accuracy = accuracy_score(labels, preds)\n",
    "    return {\n",
    "    'f1': f1,\n",
    "    'accuracy': accuracy\n",
    "    }"
   ]
  },
  {
   "cell_type": "code",
   "execution_count": 14,
   "id": "fc8bc705-5dd7-4305-a797-399b2b0fa2c7",
   "metadata": {},
   "outputs": [],
   "source": [
    "# creater trainer object\n",
    "trainer = Trainer(\n",
    "    model=model,\n",
    "    args=training_args,\n",
    "    train_dataset=tokenized_dataset[\"train\"],\n",
    "    eval_dataset=tokenized_dataset[\"test\"],\n",
    "    processing_class=tokenizer,\n",
    "    data_collator=data_collator, # this will dynamically pad examples in each batch to be equal length\n",
    "    compute_metrics=compute_metrics\n",
    ")"
   ]
  },
  {
   "cell_type": "code",
   "execution_count": 15,
   "id": "0e026389",
   "metadata": {},
   "outputs": [
    {
     "name": "stderr",
     "output_type": "stream",
     "text": [
      "c:\\Users\\chefb\\Desktop\\learning\\text-classification-longformer-comparison\\.venv\\Lib\\site-packages\\torch\\utils\\checkpoint.py:87: UserWarning: None of the inputs have requires_grad=True. Gradients will be None\n",
      "  warnings.warn(\n"
     ]
    },
    {
     "data": {
      "text/html": [
       "\n",
       "    <div>\n",
       "      \n",
       "      <progress value='5780' max='5780' style='width:300px; height:20px; vertical-align: middle;'></progress>\n",
       "      [5780/5780 1:04:50, Epoch 5/5]\n",
       "    </div>\n",
       "    <table border=\"1\" class=\"dataframe\">\n",
       "  <thead>\n",
       " <tr style=\"text-align: left;\">\n",
       "      <th>Epoch</th>\n",
       "      <th>Training Loss</th>\n",
       "      <th>Validation Loss</th>\n",
       "      <th>F1</th>\n",
       "      <th>Accuracy</th>\n",
       "    </tr>\n",
       "  </thead>\n",
       "  <tbody>\n",
       "    <tr>\n",
       "      <td>1</td>\n",
       "      <td>1.350600</td>\n",
       "      <td>1.255347</td>\n",
       "      <td>0.552500</td>\n",
       "      <td>0.565175</td>\n",
       "    </tr>\n",
       "    <tr>\n",
       "      <td>2</td>\n",
       "      <td>1.234300</td>\n",
       "      <td>0.964171</td>\n",
       "      <td>0.671482</td>\n",
       "      <td>0.672179</td>\n",
       "    </tr>\n",
       "    <tr>\n",
       "      <td>3</td>\n",
       "      <td>1.122400</td>\n",
       "      <td>1.031939</td>\n",
       "      <td>0.636683</td>\n",
       "      <td>0.642023</td>\n",
       "    </tr>\n",
       "    <tr>\n",
       "      <td>4</td>\n",
       "      <td>1.062300</td>\n",
       "      <td>0.862144</td>\n",
       "      <td>0.699764</td>\n",
       "      <td>0.704280</td>\n",
       "    </tr>\n",
       "    <tr>\n",
       "      <td>5</td>\n",
       "      <td>1.031100</td>\n",
       "      <td>0.850689</td>\n",
       "      <td>0.704506</td>\n",
       "      <td>0.706226</td>\n",
       "    </tr>\n",
       "  </tbody>\n",
       "</table><p>"
      ],
      "text/plain": [
       "<IPython.core.display.HTML object>"
      ]
     },
     "metadata": {},
     "output_type": "display_data"
    },
    {
     "name": "stderr",
     "output_type": "stream",
     "text": [
      "c:\\Users\\chefb\\Desktop\\learning\\text-classification-longformer-comparison\\.venv\\Lib\\site-packages\\torch\\utils\\checkpoint.py:87: UserWarning: None of the inputs have requires_grad=True. Gradients will be None\n",
      "  warnings.warn(\n",
      "c:\\Users\\chefb\\Desktop\\learning\\text-classification-longformer-comparison\\.venv\\Lib\\site-packages\\torch\\utils\\checkpoint.py:87: UserWarning: None of the inputs have requires_grad=True. Gradients will be None\n",
      "  warnings.warn(\n",
      "c:\\Users\\chefb\\Desktop\\learning\\text-classification-longformer-comparison\\.venv\\Lib\\site-packages\\torch\\utils\\checkpoint.py:87: UserWarning: None of the inputs have requires_grad=True. Gradients will be None\n",
      "  warnings.warn(\n",
      "c:\\Users\\chefb\\Desktop\\learning\\text-classification-longformer-comparison\\.venv\\Lib\\site-packages\\torch\\utils\\checkpoint.py:87: UserWarning: None of the inputs have requires_grad=True. Gradients will be None\n",
      "  warnings.warn(\n"
     ]
    },
    {
     "data": {
      "text/plain": [
       "TrainOutput(global_step=5780, training_loss=1.190283007770261, metrics={'train_runtime': 3891.3316, 'train_samples_per_second': 11.879, 'train_steps_per_second': 1.485, 'total_flos': 1.53927313786368e+16, 'train_loss': 1.190283007770261, 'epoch': 5.0})"
      ]
     },
     "execution_count": 15,
     "metadata": {},
     "output_type": "execute_result"
    }
   ],
   "source": [
    "# train model\n",
    "trainer.train()"
   ]
  },
  {
   "cell_type": "markdown",
   "id": "6f5664d1-9bd2-4ce1-bc24-cab5adf80f49",
   "metadata": {},
   "source": [
    "### Generate prediction with trained model"
   ]
  },
  {
   "cell_type": "code",
   "execution_count": 16,
   "id": "e5dc029e-1c16-491d-a3f1-715f9e0adf52",
   "metadata": {},
   "outputs": [
    {
     "name": "stdout",
     "output_type": "stream",
     "text": [
      "Trained model predictions:\n",
      "--------------------------\n",
      "International\n"
     ]
    }
   ],
   "source": [
    "model.to('cpu') # moving to cpu for Windows (can alternatively do 'mps' for Mac)\n",
    "\n",
    "print(\"Trained model predictions:\")\n",
    "print(\"--------------------------\")\n",
    "for text in text_list:\n",
    "    inputs = tokenizer.encode(text, return_tensors=\"pt\").to(\"cpu\")\n",
    "\n",
    "    logits = model(inputs).logits\n",
    "    predictions = torch.max(logits,1).indices\n",
    "\n",
    "    print(id2label[predictions.tolist()[0]])"
   ]
  },
  {
   "cell_type": "markdown",
   "id": "c084bd9e-f7b1-4979-b753-73335ee0cede",
   "metadata": {},
   "source": [
    "### Save lora adapters to HuggingFace"
   ]
  },
  {
   "cell_type": "code",
   "execution_count": 17,
   "id": "09496307-e253-47e3-a46f-3f28a84c89a7",
   "metadata": {},
   "outputs": [
    {
     "data": {
      "application/vnd.jupyter.widget-view+json": {
       "model_id": "2f7a31752a4a40edb5692f27c7bbd934",
       "version_major": 2,
       "version_minor": 0
      },
      "text/plain": [
       "VBox(children=(HTML(value='<center> <img\\nsrc=https://huggingface.co/front/assets/huggingface_logo-noborder.sv…"
      ]
     },
     "metadata": {},
     "output_type": "display_data"
    },
    {
     "name": "stderr",
     "output_type": "stream",
     "text": [
      "Token has not been saved to git credential helper.\n"
     ]
    }
   ],
   "source": [
    "from huggingface_hub import notebook_login\n",
    "\n",
    "notebook_login() # ensure token gives write access\n",
    "hf_name = 'cyrp' # your hf username or org name\n",
    "model_id = hf_name + \"/\" + model_output # name the model whatever you want"
   ]
  },
  {
   "cell_type": "code",
   "execution_count": 18,
   "id": "c56ea581-0ea3-45f3-af21-362e9093ee37",
   "metadata": {},
   "outputs": [
    {
     "data": {
      "application/vnd.jupyter.widget-view+json": {
       "model_id": "9b51020bc4c4422b85502f71aa804d6f",
       "version_major": 2,
       "version_minor": 0
      },
      "text/plain": [
       "README.md:   0%|          | 0.00/1.83k [00:00<?, ?B/s]"
      ]
     },
     "metadata": {},
     "output_type": "display_data"
    },
    {
     "data": {
      "application/vnd.jupyter.widget-view+json": {
       "model_id": "e5b9d613b20043f394140347e5061af2",
       "version_major": 2,
       "version_minor": 0
      },
      "text/plain": [
       "adapter_model.safetensors:   0%|          | 0.00/5.94M [00:00<?, ?B/s]"
      ]
     },
     "metadata": {},
     "output_type": "display_data"
    },
    {
     "data": {
      "text/plain": [
       "CommitInfo(commit_url='https://huggingface.co/cyrp/longformer-base-4096-gnad10/commit/fdc04eeff5b87640bcd281be13f523d7f5029091', commit_message='Upload model', commit_description='', oid='fdc04eeff5b87640bcd281be13f523d7f5029091', pr_url=None, repo_url=RepoUrl('https://huggingface.co/cyrp/longformer-base-4096-gnad10', endpoint='https://huggingface.co', repo_type='model', repo_id='cyrp/longformer-base-4096-gnad10'), pr_revision=None, pr_num=None)"
      ]
     },
     "execution_count": 18,
     "metadata": {},
     "output_type": "execute_result"
    }
   ],
   "source": [
    "model.push_to_hub(model_id) # save model"
   ]
  },
  {
   "cell_type": "code",
   "execution_count": 19,
   "id": "f487331a-8552-4fb2-867f-985b8fe1d1ab",
   "metadata": {},
   "outputs": [
    {
     "data": {
      "application/vnd.jupyter.widget-view+json": {
       "model_id": "5a5dd677a6544b16a1e3f89aaf5b6319",
       "version_major": 2,
       "version_minor": 0
      },
      "text/plain": [
       "training_args.bin:   0%|          | 0.00/5.30k [00:00<?, ?B/s]"
      ]
     },
     "metadata": {},
     "output_type": "display_data"
    },
    {
     "data": {
      "text/plain": [
       "CommitInfo(commit_url='https://huggingface.co/cyrp/longformer-base-4096-gnad10/commit/485b969ef0063f21a29fd6f592c970d3944e9f07', commit_message='longformer-base-4096-gnad10', commit_description='', oid='485b969ef0063f21a29fd6f592c970d3944e9f07', pr_url=None, repo_url=RepoUrl('https://huggingface.co/cyrp/longformer-base-4096-gnad10', endpoint='https://huggingface.co', repo_type='model', repo_id='cyrp/longformer-base-4096-gnad10'), pr_revision=None, pr_num=None)"
      ]
     },
     "execution_count": 19,
     "metadata": {},
     "output_type": "execute_result"
    }
   ],
   "source": [
    "trainer.push_to_hub(model_output) # save trainer"
   ]
  }
 ],
 "metadata": {
  "kernelspec": {
   "display_name": ".venv",
   "language": "python",
   "name": "python3"
  },
  "language_info": {
   "codemirror_mode": {
    "name": "ipython",
    "version": 3
   },
   "file_extension": ".py",
   "mimetype": "text/x-python",
   "name": "python",
   "nbconvert_exporter": "python",
   "pygments_lexer": "ipython3",
   "version": "3.11.5"
  }
 },
 "nbformat": 4,
 "nbformat_minor": 5
}
